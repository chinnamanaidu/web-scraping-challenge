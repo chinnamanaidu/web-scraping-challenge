{
 "cells": [
  {
   "cell_type": "markdown",
   "metadata": {},
   "source": [
    "### This is project to get the title and paragraph description from nasa.mars.gov website and upload the data in mongodb"
   ]
  },
  {
   "cell_type": "code",
   "execution_count": 106,
   "metadata": {},
   "outputs": [],
   "source": [
    "import gmaps\n",
    "import json\n",
    "import requests\n",
    "\n",
    "import random\n",
    "import pandas as pd\n",
    "import numpy as np\n",
    "import json\n",
    "import matplotlib.pyplot as plt\n",
    "from scipy.stats import linregress\n",
    "\n",
    "# Access maps with unique API key\n",
    "\n",
    "from flask import Flask, render_template\n",
    "import pymongo\n",
    "from splinter import Browser\n",
    "from bs4 import BeautifulSoup as bs\n",
    "import time\n",
    "\n",
    "from flask import Flask, render_template, redirect\n",
    "from flask_pymongo import PyMongo\n",
    "import pymongo\n"
   ]
  },
  {
   "cell_type": "markdown",
   "metadata": {},
   "source": [
    "#### Initializes the Mongo DB connection"
   ]
  },
  {
   "cell_type": "code",
   "execution_count": 107,
   "metadata": {},
   "outputs": [],
   "source": [
    "# Initialize PyMongo to work with MongoDBs\n",
    "conn = 'mongodb://localhost:27017'\n",
    "client = pymongo.MongoClient(conn)\n"
   ]
  },
  {
   "cell_type": "markdown",
   "metadata": {},
   "source": [
    "   executable_path = {'executable_path': 'chromedriver.exe'}\n",
    "    return Browser('chrome', **executable_path, headless=False)"
   ]
  },
  {
   "cell_type": "markdown",
   "metadata": {},
   "source": [
    "#### This is the DB initialization and updating the data"
   ]
  },
  {
   "cell_type": "markdown",
   "metadata": {},
   "source": [
    "#### Initializing the browser"
   ]
  },
  {
   "cell_type": "code",
   "execution_count": 108,
   "metadata": {},
   "outputs": [],
   "source": [
    "executable_path = {'executable_path': 'chromedriver.exe'}\n",
    "#return Browser('chrome', **executable_path, headless=False)\n",
    "browser= Browser('chrome', **executable_path, headless=False)\n"
   ]
  },
  {
   "cell_type": "markdown",
   "metadata": {},
   "source": [
    "##### This is the mars nasa gov url to get the title and paragraph"
   ]
  },
  {
   "cell_type": "code",
   "execution_count": 109,
   "metadata": {},
   "outputs": [
    {
     "data": {
      "text/plain": [
       "[{'title': 'Sensors on Mars 2020 Spacecraft Answer Long-Distance Call From Earth',\n",
       "  'paragraph': \"Instruments tailored to collect data during the descent of NASA's next rover through the Red Planet's atmosphere have been checked in flight.\"},\n",
       " {'title': \"NASA's Perseverance Rover Bringing 3D-Printed Metal Parts to Mars\",\n",
       "  'paragraph': \"For hobbyists and makers, 3D printing expands creative possibilities; for specialized engineers, it's also key to next-generation spacecraft design.\"},\n",
       " {'title': \"NASA InSight's 'Mole' Is Out of Sight\",\n",
       "  'paragraph': \"Now that the heat probe is just below the Martian surface, InSight's arm will scoop some additional soil on top to help it keep digging so it can take Mars' temperature.\"},\n",
       " {'title': \"NASA's Perseverance Rover Will Peer Beneath Mars' Surface \",\n",
       "  'paragraph': \"The agency's newest rover will use the first ground-penetrating radar instrument on the Martian surface to help search for signs of past microbial life. \"},\n",
       " {'title': 'AI Is Helping Scientists Discover Fresh Craters on Mars',\n",
       "  'paragraph': \"It's the first time machine learning has been used to find previously unknown craters on the Red Planet.\"},\n",
       " {'title': \"NASA's New Mars Rover Is Ready for Space Lasers\",\n",
       "  'paragraph': 'Perseverance is one of a few Mars spacecraft carrying laser retroreflectors. The devices could provide new science and safer Mars landings in the future.'},\n",
       " {'title': \"NASA's New Mars Rover Will Use X-Rays to Hunt Fossils\",\n",
       "  'paragraph': \"PIXL, an instrument on the end of the Perseverance rover's arm, will search for chemical fingerprints left by ancient microbes.\"},\n",
       " {'title': 'My Culture, My Voice',\n",
       "  'paragraph': 'In honor of Hispanic Heritage Month, Christina Hernandez, an instrument engineer on the Mars 2020 mission, talks about her childhood and journey to NASA.'},\n",
       " {'title': \"NASA Readies Perseverance Mars Rover's Earthly Twin \",\n",
       "  'paragraph': \"Did you know NASA's next Mars rover has a nearly identical sibling on Earth for testing? Even better, it's about to roll for the first time through a replica Martian landscape.\"},\n",
       " {'title': \"NASA Engineers Checking InSight's Weather Sensors\",\n",
       "  'paragraph': 'An electronics issue is suspected to be preventing the sensors from sharing their data about Mars weather with the spacecraft.'},\n",
       " {'title': \"Follow NASA's Perseverance Rover in Real Time on Its Way to Mars\",\n",
       "  'paragraph': \"A crisply rendered web application can show you where the agency's Mars 2020 mission is right now as it makes its way to the Red Planet for a Feb. 18, 2021, landing.\"},\n",
       " {'title': 'NASA Establishes Board to Initially Review Mars Sample Return Plans',\n",
       "  'paragraph': 'The board will assist with analysis of current plans and goals for one of the most difficult missions humanity has ever undertaken.'},\n",
       " {'title': \"NASA's Ingenuity Mars Helicopter Recharges Its Batteries in Flight\",\n",
       "  'paragraph': 'Headed to the Red Planet with the Perseverance rover, the pioneering helicopter is powered up for the first time in interplanetary space as part of a systems check.'},\n",
       " {'title': \"Celebrate Mars Reconnaissance Orbiter's Views From Above\",\n",
       "  'paragraph': 'Marking its 15th anniversary since launch, one of the oldest spacecraft at the Red Planet has provided glimpses of dust devils, avalanches, and more.'},\n",
       " {'title': \"NASA's MAVEN Observes Martian Night Sky Pulsing in Ultraviolet Light\",\n",
       "  'paragraph': 'Vast areas of the Martian night sky pulse in ultraviolet light, according to images from NASA’s MAVEN spacecraft. The results are being used to illuminate complex circulation patterns in the Martian atmosphere.'},\n",
       " {'title': \"8 Martian Postcards to Celebrate Curiosity's Landing Anniversary\",\n",
       "  'paragraph': 'The NASA rover touched down eight years ago, on Aug. 5, 2012, and will soon be joined by a second rover, Perseverance.'},\n",
       " {'title': 'NASA, ULA Launch Mars 2020 Perseverance Rover Mission to Red Planet',\n",
       "  'paragraph': \"The agency's Mars 2020 mission is on its way. It will land at Jezero Crater in about seven months, on Feb. 18, 2021. \"},\n",
       " {'title': \"NASA's Perseverance Rover Will Carry First Spacesuit Materials to Mars\",\n",
       "  'paragraph': 'In a Q&A, spacesuit designer Amy Ross explains how five samples, including a piece of helmet visor, will be tested aboard the rover, which is targeting a July 30 launch. '},\n",
       " {'title': \"A New Video Captures the Science of NASA's Perseverance Mars Rover\",\n",
       "  'paragraph': 'With a targeted launch date of July 30, the next robotic scientist NASA is sending to the to the Red Planet has big ambitions.'},\n",
       " {'title': 'NASA Invites Public to Share Excitement of Mars 2020 Perseverance Rover Launch',\n",
       "  'paragraph': 'There are lots of ways to participate in the historic event, which is targeted for July 30.'},\n",
       " {'title': \"NASA's Mars Perseverance Rover Passes Flight Readiness Review\",\n",
       "  'paragraph': \"\\u200bThe agency's Mars 2020 mission has one more big prelaunch review – the Launch Readiness Review, on July 27.\"},\n",
       " {'title': 'NASA to Broadcast Mars 2020 Perseverance Launch, Prelaunch Activities',\n",
       "  'paragraph': 'Starting July 27, news activities will cover everything from mission engineering and science to returning samples from Mars to, of course, the launch itself.'},\n",
       " {'title': \"6 Things to Know About NASA's Ingenuity Mars Helicopter\",\n",
       "  'paragraph': 'The first helicopter attempting to fly on another planet is a marvel of engineering. Get up to speed with these key facts about its plans.'},\n",
       " {'title': 'Join NASA for the Launch of the Mars 2020 Perseverance Rover',\n",
       "  'paragraph': 'No matter where you live, choose from a menu of activities to join NASA as we \"Countdown to Mars\" and launch the Perseverance rover to the Red Planet.'},\n",
       " {'title': \"NASA's Perseverance Rover Attached to Atlas V Rocket\",\n",
       "  'paragraph': 'Ready for its launch later in the month, the Mars-bound rover will touch terra firma no more.'},\n",
       " {'title': '7 Things to Know About the Mars 2020 Perseverance Rover Mission',\n",
       "  'paragraph': \"NASA's next rover to the Red Planet is slated to launch no earlier than July 30. These highlights will get you up to speed on the ambitious mission.\"},\n",
       " {'title': \"NASA's InSight Flexes Its Arm While Its 'Mole' Hits Pause\",\n",
       "  'paragraph': \"Now that the lander's robotic arm has helped the mole get underground, it will resume science activities that have been on hold.\"},\n",
       " {'title': \"Curiosity Mars Rover's Summer Road Trip Has Begun\",\n",
       "  'paragraph': 'After more than a year in the \"clay-bearing unit,\" Curiosity is making a mile-long journey around some deep sand so that it can explore higher up Mount Sharp.'},\n",
       " {'title': \"How NASA's Mars Helicopter Will Reach the Red Planet's Surface\",\n",
       "  'paragraph': 'The small craft will seek to prove that powered, controlled flight is possible on another planet. But just getting it onto the surface of Mars will take a whole lot of ingenuity.'},\n",
       " {'title': \"The Launch Is Approaching for NASA's Next Mars Rover, Perseverance\",\n",
       "  'paragraph': \"The Red Planet's surface has been visited by eight NASA spacecraft. The ninth will be the first that includes a roundtrip ticket in its flight plan. \"},\n",
       " {'title': 'NASA to Hold Mars 2020 Perseverance Rover Launch Briefing',\n",
       "  'paragraph': \"Learn more about the agency's next Red Planet mission during a live event on June 17.\"},\n",
       " {'title': \"While Stargazing on Mars, NASA's Curiosity Rover Spots Earth and Venus\",\n",
       "  'paragraph': \"This new portrait of the Red Planet's neighbors was taken during a time when there's more dust in the air on Mars.\"},\n",
       " {'title': \"NASA's Mars Rover Drivers Need Your Help\",\n",
       "  'paragraph': 'Using an online tool to label Martian terrain types, you can train an artificial intelligence algorithm that could improve the way engineers guide the Curiosity rover.'},\n",
       " {'title': \"Three New Views of Mars' Moon Phobos\",\n",
       "  'paragraph': \"Taken with the infrared camera aboard NASA's Odyssey orbiter, they reveal temperature variations on the small moon as it drifts into and out of Mars’ shadow.\"},\n",
       " {'title': \"The Extraordinary Sample-Gathering System of NASA's Perseverance Mars Rover\",\n",
       "  'paragraph': 'Two astronauts collected Moon rocks on Apollo 11. It will take three robotic systems working together to gather up the first Mars rock samples for return to Earth.'},\n",
       " {'title': \"The Detective Aboard NASA's Perseverance Rover\",\n",
       "  'paragraph': 'An instrument called SHERLOC will, with the help of its partner WATSON, hunt for signs of ancient life by detecting organic molecules and minerals.'},\n",
       " {'title': 'MAVEN Maps Electric Currents around Mars that are Fundamental to Atmospheric Loss',\n",
       "  'paragraph': 'Five years after NASA’s MAVEN spacecraft entered into orbit around Mars, data from the mission has led to the creation of a map of electric current systems in the Martian atmosphere.'},\n",
       " {'title': \"Air Deliveries Bring NASA's Perseverance Mars Rover Closer to Launch\",\n",
       "  'paragraph': \"A NASA Wallops Flight Facility cargo plane transported more than two tons of equipment — including the rover's sample collection tubes — to Florida for this summer's liftoff.\"},\n",
       " {'title': \"NASA Wins 4 Webbys, 4 People's Voice Awards\",\n",
       "  'paragraph': 'Winners include the JPL-managed \"Send Your Name to Mars\" campaign, NASA\\'s Global Climate Change website and Solar System Interactive.'},\n",
       " {'title': \"NASA's Perseverance Rover Goes Through Trials by Fire, Ice, Light and Sound\",\n",
       "  'paragraph': \"The agency's new Mars rover is put through a series of tests in vacuum chambers, acoustic chambers and more to get ready for the Red Planet.\"}]"
      ]
     },
     "execution_count": 109,
     "metadata": {},
     "output_type": "execute_result"
    }
   ],
   "source": [
    "url = \"https://mars.nasa.gov/news/\"\n",
    "browser.visit(url)\n",
    "\n",
    "time.sleep(1)\n",
    "\n",
    "# Scrape page into Soup\n",
    "html = browser.html\n",
    "soup = bs(html, \"html.parser\")\n",
    "\n",
    "\n",
    "avg_temps = soup.find(\"ul\", class_=\"item_list\")\n",
    "\n",
    "#a_all = avg_temps.find_all('a')[1].text\n",
    "#td_all = avg_temps.find_all('td')[3].text\n",
    "vol_str_data = ''\n",
    "int_vol_str = ''\n",
    "\n",
    "avg_vol_str_data = ''\n",
    "avg_int_vol_str = ''\n",
    "\n",
    "mkt_vol_str_data = ''\n",
    "mkt_int_vol_str = ''\n",
    "title_list=[]\n",
    "paragraphs = avg_temps.find_all('div', class_=\"list_text\")\n",
    "for para in paragraphs:\n",
    "    data_symbol={}\n",
    "    try:\n",
    "        data_symbol[\"title\"] = para.find('div', class_=\"content_title\").get_text()\n",
    "        data_symbol[\"paragraph\"] = para.find('div', class_=\"article_teaser_body\").get_text()\n",
    "        title_list.append(data_symbol)\n",
    "    except:\n",
    "        pass\n",
    "title_list\n"
   ]
  },
  {
   "cell_type": "code",
   "execution_count": 110,
   "metadata": {},
   "outputs": [
    {
     "data": {
      "text/plain": [
       "<pymongo.results.InsertManyResult at 0x2190d218b00>"
      ]
     },
     "execution_count": 110,
     "metadata": {},
     "output_type": "execute_result"
    }
   ],
   "source": [
    "db = client.web_scrapping_challenge_db\n",
    "collection = db.mars_title\n",
    "# Insert dictionary into MongoDB as a document\n",
    "collection.insert_many(title_list)"
   ]
  },
  {
   "cell_type": "markdown",
   "metadata": {},
   "source": [
    "##### This is the JPL website to get the featured high resolution image"
   ]
  },
  {
   "cell_type": "code",
   "execution_count": 111,
   "metadata": {},
   "outputs": [
    {
     "data": {
      "text/plain": [
       "'https://www.jpl.nasa.gov//spaceimages/images/wallpaper/PIA22911-1920x1200.jpg'"
      ]
     },
     "execution_count": 111,
     "metadata": {},
     "output_type": "execute_result"
    }
   ],
   "source": [
    "url = \"https://www.jpl.nasa.gov/spaceimages/?search=&category=Mars\"\n",
    "url_base = \"https://www.jpl.nasa.gov/\"\n",
    "browser.visit(url)\n",
    "#https://www.jpl.nasa.gov/spaceimages/images/wallpaper/PIA23341-1920x1200.jpg\n",
    "time.sleep(1)\n",
    "#images/wallpaper/PIA23341-1920x1200.jpg\n",
    "# Scrape page into Soup\n",
    "html = browser.html\n",
    "soup = bs(html, \"html.parser\")\n",
    "#style=\"background-image: url('/spaceimages/images/wallpaper/PIA23431-1920x1200.jpg')\n",
    "\n",
    "avg_temps = soup.find(\"div\", class_=\"carousel_container\")\n",
    "\n",
    "#a_all = avg_temps.find_all('a')[1].text\n",
    "#td_all = avg_temps.find_all('td')[3].text\n",
    "vol_str_data = 'dataset'\n",
    "int_vol_str = ''\n",
    "\n",
    "avg_vol_str_data = ''\n",
    "avg_int_vol_str = ''\n",
    "browser.find_by_css('li[bid=18663145091]')\n",
    "mkt_vol_str_data = ''\n",
    "mkt_int_vol_str = ''\n",
    "img_list=[]\n",
    "img_link = {}\n",
    "paragraphs = avg_temps.find_all('div', class_=\"carousel_items\")\n",
    "for para in paragraphs:\n",
    "    data_symbol={}\n",
    "    try:\n",
    "        avg_vol_str_data = para.find('article')\n",
    "        data_symbol[\"img_url\"] = avg_vol_str_data[\"style\"]\n",
    "        img_list.append(data_symbol)\n",
    "    except:\n",
    "        pass\n",
    "\n",
    "mkt_vol_str_data=img_list[0][\"img_url\"]\n",
    "mkt_vol_str_data=mkt_vol_str_data.replace('background-image: url(','')\n",
    "mkt_vol_str_data=mkt_vol_str_data=mkt_vol_str_data.replace(');','')\n",
    "mkt_vol_str_data =url_base+mkt_vol_str_data\n",
    "mkt_vol_str_data= mkt_vol_str_data.replace(\"'\",'')\n",
    "img_link['img_link'] = mkt_vol_str_data\n",
    "mkt_vol_str_data"
   ]
  },
  {
   "cell_type": "code",
   "execution_count": 112,
   "metadata": {},
   "outputs": [
    {
     "data": {
      "text/plain": [
       "<pymongo.results.InsertOneResult at 0x2190d8a0f00>"
      ]
     },
     "execution_count": 112,
     "metadata": {},
     "output_type": "execute_result"
    }
   ],
   "source": [
    "collection_link = db.mars_link_img\n",
    "# Insert dictionary into MongoDB as a document\n",
    "collection_link.insert_one(img_link)"
   ]
  },
  {
   "cell_type": "markdown",
   "metadata": {},
   "source": [
    "#### This is to get the Mars facts, its attributes to store in local DB instance"
   ]
  },
  {
   "cell_type": "code",
   "execution_count": 113,
   "metadata": {},
   "outputs": [
    {
     "data": {
      "text/plain": [
       "[{'equatorial_diameter': '6,792 km',\n",
       "  'polar_diameter': '6,752 km',\n",
       "  'mass': '6.39 × 10^23 kg (0.11 Earths)',\n",
       "  'moons': '2 (Phobos & Deimos)',\n",
       "  'orbit_distance': '227,943,824 km (1.38 AU)',\n",
       "  'orbit_period': '687 days (1.9 years)',\n",
       "  'surface_temperature': '-87 to -5 °C',\n",
       "  'first_recorded': '2nd millennium BC',\n",
       "  'recorded_by': 'Egyptian astronomers'}]"
      ]
     },
     "execution_count": 113,
     "metadata": {},
     "output_type": "execute_result"
    }
   ],
   "source": [
    "url = \"https://space-facts.com/mars/\"\n",
    "url_base = \"https://www.jpl.nasa.gov/\"\n",
    "browser.visit(url)\n",
    "#https://www.jpl.nasa.gov/spaceimages/images/wallpaper/PIA23341-1920x1200.jpg\n",
    "time.sleep(1)\n",
    "#images/wallpaper/PIA23341-1920x1200.jpg\n",
    "# Scrape page into Soup\n",
    "html = browser.html\n",
    "soup = bs(html, \"html.parser\")\n",
    "#style=\"background-image: url('/spaceimages/images/wallpaper/PIA23431-1920x1200.jpg')\n",
    "\n",
    "avg_temps = soup.find_all(\"div\", class_=\"textwidget\")\n",
    "\n",
    "\n",
    "mars_data_list=[]\n",
    "data_symbol={}\n",
    "paragraphs = avg_temps[1].find_all('tr')\n",
    "#for para in paragraphs:\n",
    "#    data_symbol={}\n",
    "#    try:\n",
    "#        data_symbol[\"equatorial_diamegerr\"] = para.find_all('td')[1].text\n",
    "#        img_list.append(data_symbol)\n",
    "#    except:\n",
    "#        pass\n",
    "#try :\n",
    "data_symbol[\"equatorial_diameter\"] = paragraphs[0].find_all('td')[1].text\n",
    "data_symbol[\"polar_diameter\"] = paragraphs[1].find_all('td')[1].text\n",
    "data_symbol[\"mass\"] = paragraphs[2].find_all('td')[1].text\n",
    "data_symbol[\"moons\"] = paragraphs[3].find_all('td')[1].text\n",
    "data_symbol[\"orbit_distance\"] = paragraphs[4].find_all('td')[1].text\n",
    "data_symbol[\"orbit_period\"] = paragraphs[5].find_all('td')[1].text\n",
    "data_symbol[\"surface_temperature\"] = paragraphs[6].find_all('td')[1].text\n",
    "data_symbol[\"first_recorded\"] = paragraphs[7].find_all('td')[1].text\n",
    "data_symbol[\"recorded_by\"] = paragraphs[8].find_all('td')[1].text\n",
    "#except:\n",
    "#    pass\n",
    "\n",
    "#img_list.append(data_symbol)\n",
    "\n",
    "#data_symbol['text']=paragraphs[0].find_all('tr').text\n",
    "\n",
    "mars_data_list.append(data_symbol)\n",
    "mars_data_list"
   ]
  },
  {
   "cell_type": "code",
   "execution_count": 114,
   "metadata": {},
   "outputs": [
    {
     "data": {
      "text/plain": [
       "<pymongo.results.InsertManyResult at 0x2190da9ed80>"
      ]
     },
     "execution_count": 114,
     "metadata": {},
     "output_type": "execute_result"
    }
   ],
   "source": [
    "collection_data = db.mars_data\n",
    "# Insert dictionary into MongoDB as a document\n",
    "collection_data.insert_many(mars_data_list)"
   ]
  },
  {
   "cell_type": "markdown",
   "metadata": {},
   "source": [
    "##### This is for the Mars hemisphere data"
   ]
  },
  {
   "cell_type": "code",
   "execution_count": 115,
   "metadata": {},
   "outputs": [
    {
     "data": {
      "text/plain": [
       "[{'img_src': 'https://astrogeology.usgs.gov/cache/images/39d3266553462198bd2fbc4d18fbed17_cerberus_enhanced.tif_thumb.png',\n",
       "  'title': 'Cerberus Hemisphere Enhanced',\n",
       "  'description': 'Mosaic of the Cerberus hemisphere of Mars projected into point perspective, a view similar to that which one would see from a spacecraft. This mosaic is composed of 104 Viking Orbiter images acquired…'},\n",
       " {'img_src': 'https://astrogeology.usgs.gov/cache/images/08eac6e22c07fb1fe72223a79252de20_schiaparelli_enhanced.tif_thumb.png',\n",
       "  'title': 'Schiaparelli Hemisphere Enhanced',\n",
       "  'description': 'Mosaic of the Schiaparelli hemisphere of Mars projected into point perspective, a view similar to that which one would see from a spacecraft. The images were acquired in 1980 during early northern…'},\n",
       " {'img_src': 'https://astrogeology.usgs.gov/cache/images/55a0a1e2796313fdeafb17c35925e8ac_syrtis_major_enhanced.tif_thumb.png',\n",
       "  'title': 'Syrtis Major Hemisphere Enhanced',\n",
       "  'description': 'Mosaic of the Syrtis Major hemisphere of Mars projected into point perspective, a view similar to that which one would see from a spacecraft. This mosaic is composed of about 100 red and violet…'},\n",
       " {'img_src': 'https://astrogeology.usgs.gov/cache/images/4e59980c1c57f89c680c0e1ccabbeff1_valles_marineris_enhanced.tif_thumb.png',\n",
       "  'title': 'Valles Marineris Hemisphere Enhanced',\n",
       "  'description': 'Mosaic of the Valles Marineris hemisphere of Mars projected into point perspective, a view similar to that which one would see from a spacecraft. The distance is 2500 kilometers from the surface of…'}]"
      ]
     },
     "execution_count": 115,
     "metadata": {},
     "output_type": "execute_result"
    }
   ],
   "source": [
    "url = \"https://astrogeology.usgs.gov/search/results?q=hemisphere+enhanced&k1=target&v1=Mars\"\n",
    "url_base = \"https://astrogeology.usgs.gov\"\n",
    "browser.visit(url)\n",
    "#https://www.jpl.nasa.gov/spaceimages/images/wallpaper/PIA23341-1920x1200.jpg\n",
    "#https://astrogeology.usgs.gov/cache/images/39d3266553462198bd2fbc4d18fbed17_cerberus_enhanced.tif_thumb.png\n",
    "time.sleep(1)\n",
    "#images/wallpaper/PIA23341-1920x1200.jpg\n",
    "# Scrape page into Soup\n",
    "html = browser.html\n",
    "soup = bs(html, \"html.parser\")\n",
    "#style=\"background-image: url('/spaceimages/images/wallpaper/PIA23431-1920x1200.jpg')\n",
    "\n",
    "avg_temps = soup.find_all(\"div\", class_=\"collapsible results\")\n",
    "\n",
    "#a_all = avg_temps.find_all('a')[1].text\n",
    "#td_all = avg_temps.find_all('td')[3].text\n",
    "vol_str_data = 'dataset'\n",
    "int_vol_str = ''\n",
    "\n",
    "avg_vol_str_data = ''\n",
    "avg_int_vol_str = ''\n",
    "\n",
    "mkt_vol_str_data = ''\n",
    "mkt_int_vol_str = ''\n",
    "hemisphere_img_list=[]\n",
    "data_symbol={}\n",
    "paragraphs = soup.find_all(\"div\", class_=\"item\")\n",
    "for para in paragraphs:\n",
    "    data_symbol={}\n",
    "    try:\n",
    "        data_symbol[\"img_src\"] = url_base+para.find('img')[\"src\"]\n",
    "        data_symbol[\"title\"] = para.find('h3').text\n",
    "        data_symbol[\"description\"] = para.find('p').text\n",
    "        hemisphere_img_list.append(data_symbol)\n",
    "    except:\n",
    "        pass\n",
    "#try :\n",
    "#data_symbol[\"equatorial_diamegerr\"] = paragraphs[0].find_all('td')[1].text\n",
    "#data_symbol[\"polar_diameter\"] = paragraphs[1].find_all('td')[1].text\n",
    "#data_symbol[\"mass\"] = paragraphs[2].find_all('td')[1].text\n",
    "#data_symbol[\"moons\"] = paragraphs[3].find_all('td')[1].text\n",
    "#data_symbol[\"orbit_distance\"] = paragraphs[4].find_all('td')[1].text\n",
    "##data_symbol[\"orbit_period\"] = paragraphs[5].find_all('td')[1].text\n",
    "#data_symbol[\"surface_temperature\"] = paragraphs[6].find_all('td')[1].text\n",
    "#except:\n",
    "#    pass\n",
    "\n",
    "#img_list.append(data_symbol)\n",
    "\n",
    "#data_symbol['text']=paragraphs[0].find_all('tr').text\n",
    "\n",
    "\n",
    "hemisphere_img_list"
   ]
  },
  {
   "cell_type": "code",
   "execution_count": 116,
   "metadata": {},
   "outputs": [
    {
     "data": {
      "text/plain": [
       "<pymongo.results.InsertManyResult at 0x2190d540940>"
      ]
     },
     "execution_count": 116,
     "metadata": {},
     "output_type": "execute_result"
    }
   ],
   "source": [
    "collection_hemisphere = db.mars_hemisphere\n",
    "# Insert dictionary into MongoDB as a document\n",
    "collection_hemisphere.insert_many(hemisphere_img_list)"
   ]
  },
  {
   "cell_type": "code",
   "execution_count": null,
   "metadata": {},
   "outputs": [],
   "source": []
  }
 ],
 "metadata": {
  "anaconda-cloud": {},
  "kernel_info": {
   "name": "python3"
  },
  "kernelspec": {
   "display_name": "Python 3",
   "language": "python",
   "name": "python3"
  },
  "language_info": {
   "codemirror_mode": {
    "name": "ipython",
    "version": 3
   },
   "file_extension": ".py",
   "mimetype": "text/x-python",
   "name": "python",
   "nbconvert_exporter": "python",
   "pygments_lexer": "ipython3",
   "version": "3.8.3"
  },
  "latex_envs": {
   "LaTeX_envs_menu_present": true,
   "autoclose": false,
   "autocomplete": true,
   "bibliofile": "biblio.bib",
   "cite_by": "apalike",
   "current_citInitial": 1,
   "eqLabelWithNumbers": true,
   "eqNumInitial": 1,
   "hotkeys": {
    "equation": "Ctrl-E",
    "itemize": "Ctrl-I"
   },
   "labels_anchors": false,
   "latex_user_defs": false,
   "report_style_numbering": false,
   "user_envs_cfg": false
  },
  "nteract": {
   "version": "0.12.3"
  }
 },
 "nbformat": 4,
 "nbformat_minor": 2
}
